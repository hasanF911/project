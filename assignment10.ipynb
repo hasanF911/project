{
  "nbformat": 4,
  "nbformat_minor": 0,
  "metadata": {
    "colab": {
      "provenance": [],
      "authorship_tag": "ABX9TyO8GUSMUQ8E7m7kq4WKJG3D",
      "include_colab_link": true
    },
    "kernelspec": {
      "name": "python3",
      "display_name": "Python 3"
    },
    "language_info": {
      "name": "python"
    }
  },
  "cells": [
    {
      "cell_type": "markdown",
      "metadata": {
        "id": "view-in-github",
        "colab_type": "text"
      },
      "source": [
        "<a href=\"https://colab.research.google.com/github/hasanF911/project/blob/main/assignment10.ipynb\" target=\"_parent\"><img src=\"https://colab.research.google.com/assets/colab-badge.svg\" alt=\"Open In Colab\"/></a>"
      ]
    },
    {
      "cell_type": "code",
      "execution_count": null,
      "metadata": {
        "colab": {
          "base_uri": "https://localhost:8080/"
        },
        "id": "Z82kPF_Hl058",
        "outputId": "24af2244-5cff-4ff0-ed4b-983ddc8e46c4"
      },
      "outputs": [
        {
          "output_type": "stream",
          "name": "stdout",
          "text": [
            "Root = 1.7499542236328125\n",
            "\n",
            "f(root) = -5.765725128993022\n"
          ]
        }
      ],
      "source": [
        "# 1. Bisection method\n",
        "# a. by uaing the bisection method, find the roots of equations x^3-2x^2-5=0 with initial guesses a = 0,25 and b = 1,75\n",
        "\n",
        "\n",
        "def my_bisection(f, a, b, tol):\n",
        "    while abs(b - a) > tol:\n",
        "        c = (a + b) / 2\n",
        "        if f(c) == 0:\n",
        "            return c\n",
        "        elif f(a) * f(c) < 0:\n",
        "            b = c\n",
        "        else:\n",
        "            a = c\n",
        "    return (a + b) / 2\n",
        "\n",
        "f = lambda x: x**3 - 2*x**2 - 5\n",
        "\n",
        "a = 0.25\n",
        "b = 1.75\n",
        "tol = 0.0001\n",
        "\n",
        "root = my_bisection(f, a, b, tol)\n",
        "print(\"Root =\", root)\n",
        "print()\n",
        "print(\"f(root) =\", f(root))\n"
      ]
    },
    {
      "cell_type": "code",
      "source": [
        "# b. the minimum number of iterations so the desired error tolerance is 0.0000025 if a = 0.5 and b = 1.5\n",
        "\n",
        "def my_bisection(f, a, b, tol):\n",
        "  iterations = 0\n",
        "  while abs(b - a) > tol:\n",
        "        c = (a + b) / 2\n",
        "        if f(c) == 0:\n",
        "            return c, iterations\n",
        "        elif f(a) * f(c) < 0:\n",
        "            b = c\n",
        "        else:\n",
        "            a = c\n",
        "        iterations += 1 \n",
        "  return (a + b) / 2, iterations\n",
        "\n",
        "f = lambda x: x**3 - 2*x**2 - 5\n",
        "\n",
        "a = 0.5\n",
        "b = 1.5\n",
        "tol = 0.0000025\n",
        "\n",
        "root, num_iterations = my_bisection(f, a, b, tol)\n",
        "\n",
        "print('Root = ', root)\n",
        "print()\n",
        "\n",
        "print('f(root) = ', f(root))\n",
        "print()\n",
        "\n",
        "print('Number of iterations = ', num_iterations)"
      ],
      "metadata": {
        "colab": {
          "base_uri": "https://localhost:8080/"
        },
        "id": "y2j77uEOu8nD",
        "outputId": "c3ff66a4-cef6-4fa3-99c9-560a2e77f5ad"
      },
      "execution_count": null,
      "outputs": [
        {
          "output_type": "stream",
          "name": "stdout",
          "text": [
            "Root =  1.4999990463256836\n",
            "\n",
            "f(root) =  -6.125000715253464\n",
            "\n",
            "Number of iterations =  19\n"
          ]
        }
      ]
    },
    {
      "cell_type": "code",
      "source": [
        "# 2. newton raphson method \n",
        "# a. calculate the roots of problem 1a with newton raphson method\n",
        "\n",
        "def newton_raphson(f, f_prime, x0, tol, max_iter):\n",
        "  x = x0\n",
        "\n",
        "  for i in range(max_iter):\n",
        "    f_val = f(x)\n",
        "    f_prime_val = f_prime(x)\n",
        "    x -= f_val / f_prime_val\n",
        "    if abs(f_val) < tol:\n",
        "            return x\n",
        "            \n",
        "\n",
        "  return None\n",
        "\n",
        "f = lambda x: x**3 - 2*x**2 - 5\n",
        "f_prime_val = lambda x: 3*x**2 - 4*x\n",
        "\n",
        "a = 0.25\n",
        "b = 1.75\n",
        "tol = 0.0001\n",
        "max_iter = 100\n",
        "\n",
        "root = newton_raphson(f, f_prime, a, tol, max_iter)\n",
        "\n",
        "print('Root = ', root)\n",
        "print()\n",
        "\n",
        "print('f(root) = ', f(root))"
      ],
      "metadata": {
        "colab": {
          "base_uri": "https://localhost:8080/"
        },
        "id": "GVKMCkEC25fA",
        "outputId": "f71cdfbb-d63e-43b3-a570-74ed78d91e1d"
      },
      "execution_count": null,
      "outputs": [
        {
          "output_type": "stream",
          "name": "stdout",
          "text": [
            "Root =  2.690647448028614\n",
            "\n",
            "f(root) =  1.7763568394002505e-15\n"
          ]
        }
      ]
    },
    {
      "cell_type": "code",
      "source": [],
      "metadata": {
        "id": "Zg0M-1WfDXVd"
      },
      "execution_count": null,
      "outputs": []
    },
    {
      "cell_type": "code",
      "source": [
        "# b. find the minimum number of iterations so the desired error tolerance is 0.0000025 if a = 0.5 and b = 1.5 using newton raphson method\n",
        "\n",
        "def newton_raphson(f, f_prime, x0, tol, max_iter):\n",
        "    iterations = 0\n",
        "    x = x0\n",
        "    for i in range(max_iter):\n",
        "        f_val = f(x)\n",
        "        f_prime_val = f_prime(x)\n",
        "        x -= f_val / f_prime_val\n",
        "        if abs(f_val) < tol:\n",
        "            return x, iterations\n",
        "        iterations += 1\n",
        "    return None, iterations\n",
        "\n",
        "f = lambda x: x**3 - 2*x**2 - 5\n",
        "f_prime = lambda x: 3*x**2 - 4*x\n",
        "\n",
        "a = 0.5\n",
        "b = 1.5\n",
        "tol = 0.0000025\n",
        "max_iter = 100\n",
        "\n",
        "root, num_iterations = newton_raphson(f, f_prime, a, tol, max_iter)\n",
        "print(\"Root =\", root)\n",
        "print()\n",
        "\n",
        "print(\"f(Root) =\", f(root))\n",
        "print()\n",
        "\n",
        "print(\"Number of iterations =\", num_iterations)\n"
      ],
      "metadata": {
        "colab": {
          "base_uri": "https://localhost:8080/"
        },
        "id": "BuHkrZlB91ue",
        "outputId": "c01c597d-1fd1-4924-9f7a-bda77f54ba5f"
      },
      "execution_count": null,
      "outputs": [
        {
          "output_type": "stream",
          "name": "stdout",
          "text": [
            "Root = 2.6906474480286198\n",
            "\n",
            "f(Root) = 6.750155989720952e-14\n",
            "\n",
            "Number of iterations = 12\n"
          ]
        }
      ]
    },
    {
      "cell_type": "code",
      "source": [
        "# 3. Numerical Derivative\n",
        "#computes the deritative numerically of function f(x) = sin (x) use the simple example to illustrate the numerical differentiation methods and their accuracy \n",
        "\n",
        "import math \n",
        "\n",
        "def f(x):\n",
        "  return math.sin(x)\n",
        "\n",
        "def forward_difference(f, x, h):\n",
        "  return (f(x + h) - f(x)) / h\n",
        "\n",
        "def central_difference(f, x, h):\n",
        "  return (f(x + h/2) - f(x - h/2)) / h\n",
        "\n",
        "def backward_difference(f, x, h):\n",
        "  return (f(x) - f(x - h)) / h\n",
        "\n",
        "def f_prime(x):\n",
        "  return math.cos(x)\n",
        "\n",
        "x = 1\n",
        "h = 0.1\n",
        "\n",
        "\n",
        "forward_diff = forward_difference(f, x, h)\n",
        "central_diff = central_difference(f, x, h)\n",
        "backward_diff = backward_difference(f, x, h)\n",
        "\n",
        "exact_diff = f_prime(x)\n",
        "\n",
        "forward_error = abs(forward_diff - exact_diff) / abs(exact_diff) * 100\n",
        "central_error = abs(central_diff - exact_diff) / abs(exact_diff) * 100\n",
        "backward_error = abs(backward_diff - exact_diff) / abs(exact_diff) * 100\n",
        "\n",
        "print('Numerical Derivatives: ')\n",
        "print('Forward Difference: {:.4f}', format(forward_diff))\n",
        "print('Central Difference: {:.4f}', format(central_diff))\n",
        "print('Backward Difference: {:.4f}', format(backward_diff))\n",
        "print()\n",
        "\n",
        "print('Exact Deritative: {:.4f}', format(exact_diff))\n",
        "print()\n",
        "\n",
        "print('Relative Errors:')\n",
        "print('Forward Difference: {:.4f}', format(forward_error))\n",
        "print('Central Difference: {:.4f}', format(central_error))\n",
        "print('Backward Difference: {:.4f}', format(backward_error))"
      ],
      "metadata": {
        "colab": {
          "base_uri": "https://localhost:8080/"
        },
        "id": "4hXNoP8-RNuy",
        "outputId": "cdd420ec-9dad-492a-c52f-792e7bfa7731"
      },
      "execution_count": 6,
      "outputs": [
        {
          "output_type": "stream",
          "name": "stdout",
          "text": [
            "Numerical Derivatives: \n",
            "Forward Difference: {:.4f} 0.4973637525353891\n",
            "Central Difference: {:.4f} 0.5400772080464322\n",
            "Backward Difference: {:.4f} 0.5814407518041309\n",
            "\n",
            "Exact Deritative: {:.4f} 0.5403023058681398\n",
            "\n",
            "Relative Errors:\n",
            "Forward Difference: {:.4f} 7.947134940273559\n",
            "Central Difference: {:.4f} 0.041661458643205876\n",
            "Backward Difference: {:.4f} 7.613968233929939\n"
          ]
        }
      ]
    }
  ]
}